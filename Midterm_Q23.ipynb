{
 "cells": [
  {
   "cell_type": "markdown",
   "id": "0032f1c3",
   "metadata": {},
   "source": [
    "# Question 23"
   ]
  },
  {
   "cell_type": "code",
   "execution_count": 3,
   "id": "828face6",
   "metadata": {},
   "outputs": [
    {
     "name": "stdout",
     "output_type": "stream",
     "text": [
      "tough(0, 0)\n",
      "\n",
      "\n",
      "tough(0, 1)\n",
      "*\n",
      "\n",
      "\n",
      "tough(0, 2)\n",
      "*\n",
      "**\n",
      " *\n",
      "\n",
      "\n",
      "tough(0, 4)\n",
      "*\n",
      "**\n",
      " *\n",
      "****\n",
      "  *\n",
      "  **\n",
      "   *\n",
      "\n",
      "\n"
     ]
    }
   ],
   "source": [
    "def tough(indent, st):\n",
    "    if st > 0:\n",
    "        tough(indent, st // 2)\n",
    "        print(\" \" * indent + \"*\" * st)\n",
    "        tough(indent + st // 2, st // 2)\n",
    "\n",
    "print(\"tough(0, 0)\")\n",
    "tough(0, 0)\n",
    "print(\"\\n\")\n",
    "\n",
    "print(\"tough(0, 1)\")\n",
    "tough(0, 1)\n",
    "print(\"\\n\")\n",
    "\n",
    "print(\"tough(0, 2)\")\n",
    "tough(0, 2)\n",
    "print(\"\\n\")\n",
    "\n",
    "print(\"tough(0, 4)\")\n",
    "tough(0, 4)\n",
    "print(\"\\n\")\n"
   ]
  },
  {
   "cell_type": "code",
   "execution_count": null,
   "id": "ab63fb9c",
   "metadata": {},
   "outputs": [],
   "source": []
  }
 ],
 "metadata": {
  "kernelspec": {
   "display_name": "Python 3 (ipykernel)",
   "language": "python",
   "name": "python3"
  },
  "language_info": {
   "codemirror_mode": {
    "name": "ipython",
    "version": 3
   },
   "file_extension": ".py",
   "mimetype": "text/x-python",
   "name": "python",
   "nbconvert_exporter": "python",
   "pygments_lexer": "ipython3",
   "version": "3.10.9"
  }
 },
 "nbformat": 4,
 "nbformat_minor": 5
}
